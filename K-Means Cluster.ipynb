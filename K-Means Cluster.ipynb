{
 "cells": [
  {
   "cell_type": "code",
   "execution_count": 2,
   "metadata": {},
   "outputs": [],
   "source": [
    "import numpy as np\n"
   ]
  },
  {
   "cell_type": "code",
   "execution_count": 5,
   "metadata": {},
   "outputs": [],
   "source": [
    "from scipy.spatial import distance_matrix"
   ]
  },
  {
   "cell_type": "code",
   "execution_count": 6,
   "metadata": {},
   "outputs": [],
   "source": [
    "import matplotlib.pyplot as plt"
   ]
  },
  {
   "cell_type": "code",
   "execution_count": null,
   "metadata": {},
   "outputs": [],
   "source": [
    "def k_means(X,K):\n",
    "    nrow=X.shape[0]\n",
    "    ncol=X.shape[1]\n",
    "\n",
    "    initial_centroids = np.random.choice(nrow,K,replace=False)\n",
    "    centroids=X[initial_centroids]\n",
    "    centroids_old=np.zeros((K,ncol))\n",
    "    cluster_assignments = np.zeros(nrow)\n",
    "    while (centroids_old!=centroids).any():\n",
    "        centroids_old = centroids.copy()\n",
    "        \n",
    "        dist_matrix=distance_matrix(X,centroids,p=2)\n",
    "        for i in np.arange(nrow):\n",
    "            d= dist_matrix[i]\n",
    "            closest_centroid= np.where(d==np.min(d))[0][0]\n",
    "            \n",
    "            cluster_assignments[i]=closest_centroid\n",
    "            \n",
    "            \n",
    "            for k in np.arange(K):\n",
    "                Xk=X[cluster_assignments == k]\n",
    "                centroids[k] = np.apply_along_axis(np.mean,axis=0,arr=Xk)\n",
    "    return (centroids,cluster_assignments)"
   ]
  }
 ],
 "metadata": {
  "kernelspec": {
   "display_name": "Python 3",
   "language": "python",
   "name": "python3"
  },
  "language_info": {
   "codemirror_mode": {
    "name": "ipython",
    "version": 3
   },
   "file_extension": ".py",
   "mimetype": "text/x-python",
   "name": "python",
   "nbconvert_exporter": "python",
   "pygments_lexer": "ipython3",
   "version": "3.6.5"
  }
 },
 "nbformat": 4,
 "nbformat_minor": 2
}
